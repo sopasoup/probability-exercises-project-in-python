{
 "cells": [
  {
   "cell_type": "markdown",
   "id": "a41f3622",
   "metadata": {},
   "source": [
    "# Ejercicios de probabilidad"
   ]
  },
  {
   "cell_type": "markdown",
   "id": "a6bdbd89",
   "metadata": {},
   "source": [
    "## Ejercicio 1 \n",
    "\n",
    "Dos dados se lanzan una vez y se observa el total obtenido. Usa una simulación para encontrar la probabilidad estimada de que la puntuación sea mayor a 7 o un número par. Una simulación es una repetición del mismo experimento multiples veces para observar su comportamiento:\n",
    "\n",
    "- Ejecuta el experimento 1000 veces (lanza 2 dados 1000 veces, y suma el número de ambos dados).\n",
    "- Lleva ua cuenta de los números y las veces que la suma fue mayor a 7 o un número par.\n",
    "- Divide el número del paso 2 entre el número de iteraciones(1000)."
   ]
  },
  {
   "cell_type": "code",
   "execution_count": 1,
   "id": "8939d892",
   "metadata": {},
   "outputs": [],
   "source": [
    "import numpy as np\n",
    "\n",
    "def lanzamientos(n):\n",
    "    lanzamientos = np.random.randint(1,7,n) + np.random.randint(1,7,n)\n",
    "    contador_7 = 0\n",
    "    contador_par = 0\n",
    "    for i in lanzamientos:\n",
    "        if i > 7:\n",
    "            contador_7 += 1\n",
    "        if i % 2 == 0:\n",
    "            contador_par += 1\n",
    "    print(f'La suma de los dos dados es mayor a 7: {contador_7} veces ({contador_7/n*100}%)')\n",
    "    print(f'La suma de los dos dados es un numero par: {contador_par} veces ({contador_par/n*100}%)')\n",
    "    return lanzamientos\n",
    "print(lanzamientos(1000))\n"
   ]
  },
  {
   "cell_type": "markdown",
   "id": "55732bca",
   "metadata": {},
   "source": [
    "## Ejercicio 2\n",
    "\n",
    "Una caja contiene 10 bolas blancas, 20 bolas rojas y 30 bolas verdes. Si tomamos 5 bolas de la caja reemplazándolas (tomando una bola, anotando el color y luego regresandola a la caja). Queremos saber la probabilidad de:\n",
    "\n",
    "1. Tomar 3 blancas y 2 rojas.\n",
    "2. Toas todas del mismo color.\n",
    "\n",
    "Ejecuta el experimento 1000 veces y calcula las probabilidades que mencionadas."
   ]
  },
  {
   "cell_type": "code",
   "execution_count": null,
   "id": "23244d20",
   "metadata": {},
   "outputs": [
    {
     "ename": "",
     "evalue": "",
     "output_type": "error",
     "traceback": [
      "\u001b[1;31mRunning cells with 'c:\\Program Files\\Python312\\python.exe' requires the ipykernel package.\n",
      "\u001b[1;31mRun the following command to install 'ipykernel' into the Python environment. \n",
      "\u001b[1;31mCommand: '\"c:/Program Files/Python312/python.exe\" -m pip install ipykernel -U --user --force-reinstall'"
     ]
    }
   ],
   "source": [
    "import random\n",
    "\n",
    "bolas = {'blanca': 10, 'roja': 20, 'verde': 30}\n",
    "\n",
    "caja = ['blanca'] * bolas['blanca'] + ['roja'] * bolas['roja'] + ['verde'] * bolas['verde']\n",
    "\n",
    "contador_3b_2r = 0  \n",
    "contador_5 = 0       \n",
    "\n",
    "experimentos = 1000\n",
    "\n",
    "\n",
    "for _ in range(experimentos):\n",
    "    seleccion = random.choices(caja, k=5)  \n",
    "    conteo = {color: seleccion.count(color) for color in bolas.keys()}\n",
    "\n",
    "    #3 bancas y 2 rojas\n",
    "    if conteo['blanca'] == 3 and conteo['roja'] == 2:\n",
    "        contador_3b_2r += 1\n",
    "\n",
    "    #mismo color\n",
    "    if 5 in conteo.values():\n",
    "        contador_5 += 1\n",
    "\n",
    "probabilidad_3b_2r = contador_3b_2r / experimentos\n",
    "probabilidad_5 = contador_5 / experimentos\n",
    "\n",
    "print(f\"Probabilidad de tomar 3 blancas y 2 rojas: {probabilidad_3b_2r*100}%\")\n",
    "print(f\"Probabilidad de que todas sean del mismo color: {probabilidad_5*100}%\")\n",
    "\n"
   ]
  }
 ],
 "metadata": {
  "interpreter": {
   "hash": "9248718ffe6ce6938b217e69dbcc175ea21f4c6b28a317e96c05334edae734bb"
  },
  "kernelspec": {
   "display_name": "Python 3.9.12 ('ML-BOOTCAMP')",
   "language": "python",
   "name": "python3"
  },
  "language_info": {
   "codemirror_mode": {
    "name": "ipython",
    "version": 3
   },
   "file_extension": ".py",
   "mimetype": "text/x-python",
   "name": "python",
   "nbconvert_exporter": "python",
   "pygments_lexer": "ipython3",
   "version": "3.12.1"
  }
 },
 "nbformat": 4,
 "nbformat_minor": 5
}
